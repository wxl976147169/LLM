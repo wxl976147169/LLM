{
 "cells": [
  {
   "cell_type": "code",
   "execution_count": null,
   "id": "a23313f5",
   "metadata": {
    "vscode": {
     "languageId": "plaintext"
    }
   },
   "outputs": [],
   "source": [
    "from langchain_community.retrievers import BM25Retriever\n",
    "from typing import List\n",
    "import jieba\n",
    "from langchain.text_splitter import RecursiveCharacterTextSplitter\n",
    "from langchain.vectorstores import FAISS\n",
    "from langchain.document_loaders import TextLoader\n",
    "from langchain_huggingface import HuggingFaceEmbeddings"
   ]
  },
  {
   "cell_type": "code",
   "execution_count": null,
   "id": "3d4ce40b",
   "metadata": {
    "vscode": {
     "languageId": "plaintext"
    }
   },
   "outputs": [],
   "source": [
    "loader = TextLoader('/root/autodl-tmp/LLM_github/medical_data.txt')\n",
    "documents = loader.load()\n",
    "text_splitter = RecursiveCharacterTextSplitter(\n",
    "    chunk_size = 500,\n",
    "    chunk_overlap  = 0,\n",
    "    length_function = len,\n",
    "    separators=['\\n']\n",
    ")\n",
    "docs = text_splitter.split_documents(documents)"
   ]
  },
  {
   "cell_type": "code",
   "execution_count": null,
   "id": "8a1ab8f8",
   "metadata": {
    "vscode": {
     "languageId": "plaintext"
    }
   },
   "outputs": [],
   "source": [
    "def preprocessing_func(text: str) -> List[str]:\n",
    "    return list(jieba.cut(text))\n",
    "bm25 = BM25Retriever(docs=docs,k=10)\n",
    "print(bm25.k)\n",
    "retriever = bm25.from_documents(docs,preprocess_func=preprocessing_func)"
   ]
  },
  {
   "cell_type": "code",
   "execution_count": null,
   "id": "bd83eb9c",
   "metadata": {
    "vscode": {
     "languageId": "plaintext"
    }
   },
   "outputs": [],
   "source": [
    "retriever.invoke('骨折了应该怎么办')"
   ]
  },
  {
   "cell_type": "code",
   "execution_count": null,
   "id": "2bd40ed2",
   "metadata": {
    "vscode": {
     "languageId": "plaintext"
    }
   },
   "outputs": [],
   "source": [
    "from rank_bm25 import BM25Okapi\n",
    "texts = [i.page_content for i in docs]\n",
    "texts_processed = [preprocessing_func(t) for t in texts]\n",
    "vectorizer = BM25Okapi(texts_processed)"
   ]
  },
  {
   "cell_type": "code",
   "execution_count": null,
   "id": "5928c122",
   "metadata": {
    "vscode": {
     "languageId": "plaintext"
    }
   },
   "outputs": [],
   "source": [
    "vectorizer.get_top_n(preprocessing_func('骨折了应该怎么办'),texts, n=10)"
   ]
  },
  {
   "cell_type": "code",
   "execution_count": null,
   "id": "89d46a4d",
   "metadata": {
    "vscode": {
     "languageId": "plaintext"
    }
   },
   "outputs": [],
   "source": [
    "embeddings = HuggingFaceEmbeddings(model_name='/home/user/wyf/fastchat/bge-large-zh-v1.5', model_kwargs = {'device': 'cuda:1'})"
   ]
  },
  {
   "cell_type": "code",
   "execution_count": null,
   "id": "60b4429c",
   "metadata": {
    "vscode": {
     "languageId": "plaintext"
    }
   },
   "outputs": [],
   "source": [
    "db = FAISS.from_documents(docs, embeddings)"
   ]
  },
  {
   "cell_type": "code",
   "execution_count": null,
   "id": "6a463c29",
   "metadata": {
    "vscode": {
     "languageId": "plaintext"
    }
   },
   "outputs": [],
   "source": [
    "bm25_res = vectorizer.get_top_n(preprocessing_func('骨折了应该怎么办'),texts, n=10)\n",
    "bm25_res"
   ]
  },
  {
   "cell_type": "code",
   "execution_count": null,
   "id": "0d91f58e",
   "metadata": {
    "vscode": {
     "languageId": "plaintext"
    }
   },
   "outputs": [],
   "source": [
    "vector_res = db.similarity_search('骨折了应该怎么办', k=10)\n",
    "vector_res"
   ]
  },
  {
   "cell_type": "code",
   "execution_count": null,
   "id": "569f51bb",
   "metadata": {
    "vscode": {
     "languageId": "plaintext"
    }
   },
   "outputs": [],
   "source": [
    "def rrf(vector_results: List[str], text_results: List[str], k: int=10, m: int=60):\n",
    "        \"\"\"\n",
    "        使用RRF算法对两组检索结果进行重排序\n",
    "        \n",
    "        params:\n",
    "        vector_results (list): 向量召回的结果列表,每个元素是专利ID\n",
    "        text_results (list): 文本召回的结果列表,每个元素是专利ID\n",
    "        k(int): 排序后返回前k个\n",
    "        m (int): 超参数\n",
    "        \n",
    "        return:\n",
    "        重排序后的结果列表,每个元素是(文档ID, 融合分数)\n",
    "        \"\"\"\n",
    "        \n",
    "        doc_scores = {}\n",
    "        \n",
    "        # 遍历两组结果,计算每个文档的融合分数\n",
    "        for rank, doc_id in enumerate(vector_results):\n",
    "            doc_scores[doc_id] = doc_scores.get(doc_id, 0) + 1 / (rank+m)\n",
    "        for rank, doc_id in enumerate(text_results):\n",
    "            doc_scores[doc_id] = doc_scores.get(doc_id, 0) + 1 / (rank+m)\n",
    "        \n",
    "        # 将结果按融合分数排序\n",
    "        sorted_results = [d for d, _ in sorted(doc_scores.items(), key=lambda x: x[1], reverse=True)[:k]]\n",
    "\n",
    "        return sorted_results"
   ]
  },
  {
   "cell_type": "code",
   "execution_count": null,
   "id": "9bfce787",
   "metadata": {
    "vscode": {
     "languageId": "plaintext"
    }
   },
   "outputs": [],
   "source": [
    "vector_results = [i.page_content for i in vector_res]\n",
    "text_results = [i for i in bm25_res]\n",
    "rrf_res = rrf(vector_results, text_results)\n",
    "rrf_res"
   ]
  },
  {
   "cell_type": "code",
   "execution_count": null,
   "id": "e2d9582e",
   "metadata": {
    "vscode": {
     "languageId": "plaintext"
    }
   },
   "outputs": [],
   "source": [
    "prompt = '''\n",
    "任务目标：根据检索出的文档回答用户问题\n",
    "任务要求：\n",
    "    1、不得脱离检索出的文档回答问题\n",
    "    2、若检索出的文档不包含用户问题的答案，请回答我不知道\n",
    "\n",
    "用户问题：\n",
    "{}\n",
    "\n",
    "检索出的文档：\n",
    "{}\n",
    "'''"
   ]
  },
  {
   "cell_type": "code",
   "execution_count": null,
   "id": "97f29054",
   "metadata": {
    "vscode": {
     "languageId": "plaintext"
    }
   },
   "outputs": [],
   "source": [
    "from langchain_openai import ChatOpenAI\n",
    "model = ChatOpenAI(model='Qwen2-7B-Instruct', base_url='http://localhost:8000/v1', api_key='n')\n",
    "res = model.invoke(prompt.format('骨折了应该怎么办', ''.join(rrf_res)))\n",
    "print(res.content)"
   ]
  },
  {
   "cell_type": "code",
   "execution_count": null,
   "id": "34f0f389",
   "metadata": {
    "vscode": {
     "languageId": "plaintext"
    }
   },
   "outputs": [],
   "source": [
    "res = model.invoke('骨折了应该怎么办')\n",
    "print(res.content)"
   ]
  },
  {
   "cell_type": "code",
   "execution_count": null,
   "id": "c0d0a02b",
   "metadata": {
    "vscode": {
     "languageId": "plaintext"
    }
   },
   "outputs": [],
   "source": []
  }
 ],
 "metadata": {
  "language_info": {
   "name": "python"
  }
 },
 "nbformat": 4,
 "nbformat_minor": 5
}
